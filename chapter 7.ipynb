{
 "cells": [
  {
   "cell_type": "code",
   "execution_count": 11,
   "id": "77acb10a-79c0-433e-938a-b128c0013608",
   "metadata": {},
   "outputs": [
    {
     "name": "stdout",
     "output_type": "stream",
     "text": [
      "I made your tuna sandwhich\n",
      "I made your pastrami\n",
      "I made your turkey sandwhich\n",
      "I made your pastrami\n",
      "I made your ham sandwhich\n",
      "I made your pastrami\n",
      "\n",
      "The Following sandwhichs have been made:\n",
      "tuna sandwhich\n",
      "pastrami\n",
      "turkey sandwhich\n",
      "pastrami\n",
      "ham sandwhich\n",
      "pastrami\n"
     ]
    }
   ],
   "source": [
    "sandwhich_orders = ['tuna sandwhich', 'pastrami', 'turkey sandwhich', 'pastrami', 'ham sandwhich', 'pastrami']\n",
    "\n",
    "finished_sandwhiches = []\n",
    "\n",
    "while sandwhich_orders:\n",
    "    current_sandwhich = sandwhich_orders.pop(0)\n",
    "    print(f\"I made your {current_sandwhich}\")\n",
    "    finished_sandwhiches.append(current_sandwhich)\n",
    "\n",
    "print(\"\\nThe Following sandwhichs have been made:\")\n",
    "for sandwhich in finished_sandwhiches:\n",
    "    print(sandwhich)"
   ]
  },
  {
   "cell_type": "code",
   "execution_count": null,
   "id": "fcbe50f3-6f7b-4f55-95ff-4f11c7653480",
   "metadata": {},
   "outputs": [],
   "source": []
  }
 ],
 "metadata": {
  "kernelspec": {
   "display_name": "Python [conda env:base] *",
   "language": "python",
   "name": "conda-base-py"
  },
  "language_info": {
   "codemirror_mode": {
    "name": "ipython",
    "version": 3
   },
   "file_extension": ".py",
   "mimetype": "text/x-python",
   "name": "python",
   "nbconvert_exporter": "python",
   "pygments_lexer": "ipython3",
   "version": "3.12.7"
  }
 },
 "nbformat": 4,
 "nbformat_minor": 5
}
