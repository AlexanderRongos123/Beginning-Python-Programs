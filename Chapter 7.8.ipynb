{
 "cells": [
  {
   "cell_type": "code",
   "execution_count": 5,
   "id": "f440af70-d8ff-42f2-8a65-779b63f4b105",
   "metadata": {},
   "outputs": [
    {
     "name": "stdout",
     "output_type": "stream",
     "text": [
      "I made your tuna sandwhich\n"
     ]
    },
    {
     "ename": "NameError",
     "evalue": "name 'finished_sandwhiches' is not defined",
     "output_type": "error",
     "traceback": [
      "\u001b[1;31m---------------------------------------------------------------------------\u001b[0m",
      "\u001b[1;31mNameError\u001b[0m                                 Traceback (most recent call last)",
      "Cell \u001b[1;32mIn[5], line 8\u001b[0m\n\u001b[0;32m      6\u001b[0m     current_sandwhich \u001b[38;5;241m=\u001b[39m sandwhich_orders\u001b[38;5;241m.\u001b[39mpop(\u001b[38;5;241m0\u001b[39m)\n\u001b[0;32m      7\u001b[0m     \u001b[38;5;28mprint\u001b[39m(\u001b[38;5;124mf\u001b[39m\u001b[38;5;124m\"\u001b[39m\u001b[38;5;124mI made your \u001b[39m\u001b[38;5;132;01m{\u001b[39;00mcurrent_sandwhich\u001b[38;5;132;01m}\u001b[39;00m\u001b[38;5;124m\"\u001b[39m)\n\u001b[1;32m----> 8\u001b[0m     finished_sandwhiches\u001b[38;5;241m.\u001b[39mappend(current_sandwhich)\n\u001b[0;32m     10\u001b[0m \u001b[38;5;28mprint\u001b[39m(\u001b[38;5;124m\"\u001b[39m\u001b[38;5;130;01m\\n\u001b[39;00m\u001b[38;5;124mThe Following sandwhichs have been made:\u001b[39m\u001b[38;5;124m\"\u001b[39m)\n\u001b[0;32m     11\u001b[0m \u001b[38;5;28;01mfor\u001b[39;00m sandwhich \u001b[38;5;129;01min\u001b[39;00m finished_sandwhiches:\n",
      "\u001b[1;31mNameError\u001b[0m: name 'finished_sandwhiches' is not defined"
     ]
    }
   ],
   "source": [
    "sandwhich_orders = ['tuna sandwhich', 'pastrami', 'turkey sandwhich', 'pastrami', 'ham sandwhich', 'pastrami']\n",
    "\n",
    "finished_sandwhicehs = []\n",
    "\n",
    "while sandwhich_orders:\n",
    "    current_sandwhich = sandwhich_orders.pop(0)\n",
    "    print(f\"I made your {current_sandwhich}\")\n",
    "    finished_sandwhiches.append(current_sandwhich)\n",
    "\n",
    "print(\"\\nThe Following sandwhichs have been made:\")\n",
    "for sandwhich in finished_sandwhiches:\n",
    "    print(sandwhich)"
   ]
  },
  {
   "cell_type": "code",
   "execution_count": null,
   "id": "17bbe0a2-43ab-48dc-af9e-7f51eebaf042",
   "metadata": {},
   "outputs": [],
   "source": []
  }
 ],
 "metadata": {
  "kernelspec": {
   "display_name": "Python [conda env:base] *",
   "language": "python",
   "name": "conda-base-py"
  },
  "language_info": {
   "codemirror_mode": {
    "name": "ipython",
    "version": 3
   },
   "file_extension": ".py",
   "mimetype": "text/x-python",
   "name": "python",
   "nbconvert_exporter": "python",
   "pygments_lexer": "ipython3",
   "version": "3.12.7"
  }
 },
 "nbformat": 4,
 "nbformat_minor": 5
}
