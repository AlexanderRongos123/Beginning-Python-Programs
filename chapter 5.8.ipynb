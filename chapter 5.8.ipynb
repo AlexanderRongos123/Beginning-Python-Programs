{
 "cells": [
  {
   "cell_type": "code",
   "execution_count": null,
   "id": "e72efe04-bcea-4932-83c0-43f58d5fa4be",
   "metadata": {},
   "outputs": [],
   "source": []
  },
  {
   "cell_type": "code",
   "execution_count": 16,
   "id": "ceda02ec-5cff-4947-a577-7b15721cc778",
   "metadata": {},
   "outputs": [
    {
     "name": "stdout",
     "output_type": "stream",
     "text": [
      "Hello admin, would you like to see a status report?\n",
      "Hello jaden, thank you for logging in again.\n",
      "Hello sarah, thank you for logging in again.\n",
      "Hello michael, thank you for logging in again.\n",
      "Hello emma, thank you for logging in again.\n"
     ]
    }
   ],
   "source": [
    "usernames = ['admin', 'jaden', 'sarah', 'michael', 'emma']\n",
    "\n",
    "for username in usernames:\n",
    "    if username == 'admin':\n",
    "        print(f\"Hello admin, would you like to see a status report?\")\n",
    "    else:\n",
    "        print(f\"Hello {username}, thank you for logging in again.\")"
   ]
  },
  {
   "cell_type": "code",
   "execution_count": null,
   "id": "3f11845c-61b6-44a6-80af-076d2fe09d44",
   "metadata": {},
   "outputs": [],
   "source": []
  }
 ],
 "metadata": {
  "kernelspec": {
   "display_name": "Python [conda env:base] *",
   "language": "python",
   "name": "conda-base-py"
  },
  "language_info": {
   "codemirror_mode": {
    "name": "ipython",
    "version": 3
   },
   "file_extension": ".py",
   "mimetype": "text/x-python",
   "name": "python",
   "nbconvert_exporter": "python",
   "pygments_lexer": "ipython3",
   "version": "3.12.7"
  }
 },
 "nbformat": 4,
 "nbformat_minor": 5
}
