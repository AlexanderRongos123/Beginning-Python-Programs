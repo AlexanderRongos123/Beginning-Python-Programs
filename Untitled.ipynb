{
 "cells": [
  {
   "cell_type": "code",
   "execution_count": 7,
   "id": "1005f3e8-7b19-420f-8c56-19142119c424",
   "metadata": {},
   "outputs": [
    {
     "name": "stdout",
     "output_type": "stream",
     "text": [
      "\n",
      "City: Tokyo\n",
      "Country: Japan\n",
      "Population: 1434908 million\n",
      "Fact: The worlds most popular city.\n",
      "\n",
      "City: New York\n",
      "Country: united states\n",
      "Population: 841900\n",
      "Fact: known as the city that never sleeps.\n",
      "\n",
      "City: Paris\n",
      "Country: France\n",
      "Population: 2161000\n",
      "Fact: Known as the city of light\n"
     ]
    }
   ],
   "source": [
    "cities = {\n",
    "    \"Tokyo\": {\n",
    "        \"country\": \"Japan\",\n",
    "        \"population\": \"1434908 million\",\n",
    "        \"fact\": \"The worlds most popular city.\"\n",
    "    },\n",
    "    \"New York\": {\n",
    "        \"country\": \"united states\",\n",
    "        \"population\": \"841900\",\n",
    "        \"fact\": \"known as the city that never sleeps.\"\n",
    "    },\n",
    "    \"Paris\": {\n",
    "        \"country\": \"France\",\n",
    "        \"population\": \"2161000\",\n",
    "        \"fact\": \"Known as the city of light\"\n",
    "    }\n",
    "}\n",
    "\n",
    "\n",
    "for city, details in cities.items():\n",
    "    print(f\"\\nCity: {city}\")\n",
    "    print(f\"Country: {details['country']}\")\n",
    "    print(f\"Population: {details['population']}\")\n",
    "    print(f\"Fact: {details['fact']}\")"
   ]
  },
  {
   "cell_type": "code",
   "execution_count": null,
   "id": "57a54726-ba82-4dd0-9507-4a9a1c2ff6af",
   "metadata": {},
   "outputs": [],
   "source": []
  }
 ],
 "metadata": {
  "kernelspec": {
   "display_name": "Python [conda env:base] *",
   "language": "python",
   "name": "conda-base-py"
  },
  "language_info": {
   "codemirror_mode": {
    "name": "ipython",
    "version": 3
   },
   "file_extension": ".py",
   "mimetype": "text/x-python",
   "name": "python",
   "nbconvert_exporter": "python",
   "pygments_lexer": "ipython3",
   "version": "3.12.7"
  }
 },
 "nbformat": 4,
 "nbformat_minor": 5
}
