{
 "cells": [
  {
   "cell_type": "code",
   "execution_count": 29,
   "id": "758fc2ac-43e1-48ab-97ca-0c5004d44c24",
   "metadata": {},
   "outputs": [
    {
     "ename": "NameError",
     "evalue": "name 'Die' is not defined",
     "output_type": "error",
     "traceback": [
      "\u001b[1;31m---------------------------------------------------------------------------\u001b[0m",
      "\u001b[1;31mNameError\u001b[0m                                 Traceback (most recent call last)",
      "Cell \u001b[1;32mIn[29], line 9\u001b[0m\n\u001b[0;32m      6\u001b[0m     \u001b[38;5;28;01mdef\u001b[39;00m \u001b[38;5;21mroll_die\u001b[39m(\u001b[38;5;28mself\u001b[39m):\n\u001b[0;32m      7\u001b[0m         \u001b[38;5;28;01mreturn\u001b[39;00m random\u001b[38;5;241m.\u001b[39mrandint(\u001b[38;5;241m1\u001b[39m, \u001b[38;5;28mself\u001b[39m\u001b[38;5;241m.\u001b[39msides)\n\u001b[1;32m----> 9\u001b[0m d6 \u001b[38;5;241m=\u001b[39m Die()\n\u001b[0;32m     10\u001b[0m \u001b[38;5;28mprint\u001b[39m(\u001b[38;5;124m\"\u001b[39m\u001b[38;5;124mRolling a 6-sided die 10 times:\u001b[39m\u001b[38;5;124m\"\u001b[39m)\n\u001b[0;32m     11\u001b[0m \u001b[38;5;28;01mfor\u001b[39;00m _ \u001b[38;5;129;01min\u001b[39;00m \u001b[38;5;28mrange\u001b[39m(\u001b[38;5;241m10\u001b[39m):\n",
      "\u001b[1;31mNameError\u001b[0m: name 'Die' is not defined"
     ]
    }
   ],
   "source": [
    "import random \n",
    "\n",
    "class die:\n",
    "    def __init__(self, sides=6):\n",
    "        self.sides = sides\n",
    "    def roll_die(self):\n",
    "        return random.randint(1, self.sides)\n",
    "\n",
    "d6 = Die()\n",
    "print(\"Rolling a 6-sided die 10 times:\")\n",
    "for _ in range(10):\n",
    "    print(d6.roll_die())\n",
    "\n",
    "d10 = Die(10)\n",
    "print(\"\\nRolling a 10-sided die 10 times:\")\n",
    "for _ in range(10):\n",
    "    print(d10.roll_die())\n",
    "\n",
    "d20 = Die(20)\n",
    "print(\"\\nRolling a 20-sided die 10 times:\")\n",
    "for _ in range(10):\n",
    "    print(d20.roll_die())"
   ]
  },
  {
   "cell_type": "code",
   "execution_count": null,
   "id": "43a730e5-67f9-4e2f-bedd-be5f46bee4b5",
   "metadata": {},
   "outputs": [],
   "source": []
  },
  {
   "cell_type": "code",
   "execution_count": null,
   "id": "477fdcc5-7195-4ff0-854f-e0a19a05d433",
   "metadata": {},
   "outputs": [],
   "source": []
  }
 ],
 "metadata": {
  "kernelspec": {
   "display_name": "Python [conda env:base] *",
   "language": "python",
   "name": "conda-base-py"
  },
  "language_info": {
   "codemirror_mode": {
    "name": "ipython",
    "version": 3
   },
   "file_extension": ".py",
   "mimetype": "text/x-python",
   "name": "python",
   "nbconvert_exporter": "python",
   "pygments_lexer": "ipython3",
   "version": "3.12.7"
  }
 },
 "nbformat": 4,
 "nbformat_minor": 5
}
