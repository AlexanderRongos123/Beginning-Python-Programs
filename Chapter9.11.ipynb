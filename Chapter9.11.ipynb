{
 "cells": [
  {
   "cell_type": "code",
   "execution_count": 31,
   "id": "758fc2ac-43e1-48ab-97ca-0c5004d44c24",
   "metadata": {},
   "outputs": [
    {
     "name": "stdout",
     "output_type": "stream",
     "text": [
      "Rolling a 6-sided die 10 times:\n",
      "1\n",
      "3\n",
      "4\n",
      "5\n",
      "5\n",
      "1\n",
      "4\n",
      "6\n",
      "5\n",
      "1\n",
      "\n",
      "Rolling a 10-sided die 10 times:\n",
      "4\n",
      "7\n",
      "8\n",
      "2\n",
      "8\n",
      "2\n",
      "3\n",
      "8\n",
      "9\n",
      "1\n",
      "\n",
      "Rolling a 20-sided die 10 times:\n",
      "13\n",
      "4\n",
      "19\n",
      "15\n",
      "17\n",
      "6\n",
      "8\n",
      "3\n",
      "2\n",
      "5\n"
     ]
    }
   ],
   "source": [
    "import random \n",
    "\n",
    "class Die:\n",
    "    def __init__(self, sides=6):\n",
    "        self.sides = sides\n",
    "    def roll_die(self):\n",
    "        return random.randint(1, self.sides)\n",
    "\n",
    "d6 = Die()\n",
    "print(\"Rolling a 6-sided die 10 times:\")\n",
    "for _ in range(10):\n",
    "    print(d6.roll_die())\n",
    "\n",
    "d10 = Die(10)\n",
    "print(\"\\nRolling a 10-sided die 10 times:\")\n",
    "for _ in range(10):\n",
    "    print(d10.roll_die())\n",
    "\n",
    "d20 = Die(20)\n",
    "print(\"\\nRolling a 20-sided die 10 times:\")\n",
    "for _ in range(10):\n",
    "    print(d20.roll_die())"
   ]
  },
  {
   "cell_type": "code",
   "execution_count": null,
   "id": "43a730e5-67f9-4e2f-bedd-be5f46bee4b5",
   "metadata": {},
   "outputs": [],
   "source": []
  },
  {
   "cell_type": "code",
   "execution_count": null,
   "id": "477fdcc5-7195-4ff0-854f-e0a19a05d433",
   "metadata": {},
   "outputs": [],
   "source": []
  }
 ],
 "metadata": {
  "kernelspec": {
   "display_name": "Python [conda env:base] *",
   "language": "python",
   "name": "conda-base-py"
  },
  "language_info": {
   "codemirror_mode": {
    "name": "ipython",
    "version": 3
   },
   "file_extension": ".py",
   "mimetype": "text/x-python",
   "name": "python",
   "nbconvert_exporter": "python",
   "pygments_lexer": "ipython3",
   "version": "3.12.7"
  }
 },
 "nbformat": 4,
 "nbformat_minor": 5
}
