{
 "cells": [
  {
   "cell_type": "code",
   "execution_count": 17,
   "id": "62f5473c-0972-4b35-918a-a995ff777c5d",
   "metadata": {},
   "outputs": [
    {
     "name": "stdout",
     "output_type": "stream",
     "text": [
      "showing messages:\n",
      "Hello, how are you?\n",
      "python is fun!\n",
      "have a great day!\n"
     ]
    }
   ],
   "source": [
    "def show_messages(messages):\n",
    "    \"\"\"This prints each text message in the list\"\"\"\n",
    "    print(\"showing messages:\")\n",
    "    for message in messages:\n",
    "        print(message)\n",
    "message = ['Hello, how are you?', 'python is fun!', 'have a great day!']\n",
    "show_messages(message)"
   ]
  },
  {
   "cell_type": "code",
   "execution_count": null,
   "id": "1b51e45c-a109-4115-b6ee-68b05b76c3dd",
   "metadata": {},
   "outputs": [],
   "source": []
  }
 ],
 "metadata": {
  "kernelspec": {
   "display_name": "Python [conda env:base] *",
   "language": "python",
   "name": "conda-base-py"
  },
  "language_info": {
   "codemirror_mode": {
    "name": "ipython",
    "version": 3
   },
   "file_extension": ".py",
   "mimetype": "text/x-python",
   "name": "python",
   "nbconvert_exporter": "python",
   "pygments_lexer": "ipython3",
   "version": "3.12.7"
  }
 },
 "nbformat": 4,
 "nbformat_minor": 5
}
