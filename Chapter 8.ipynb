{
 "cells": [
  {
   "cell_type": "code",
   "execution_count": 7,
   "id": "57984a88-f1f1-476e-a777-ddeba47b83c5",
   "metadata": {},
   "outputs": [
    {
     "ename": "NameError",
     "evalue": "name 'show_message' is not defined",
     "output_type": "error",
     "traceback": [
      "\u001b[1;31m---------------------------------------------------------------------------\u001b[0m",
      "\u001b[1;31mNameError\u001b[0m                                 Traceback (most recent call last)",
      "Cell \u001b[1;32mIn[7], line 7\u001b[0m\n\u001b[0;32m      5\u001b[0m         \u001b[38;5;28mprint\u001b[39m(message)\n\u001b[0;32m      6\u001b[0m message \u001b[38;5;241m=\u001b[39m [\u001b[38;5;124m'\u001b[39m\u001b[38;5;124mHello, how are you?\u001b[39m\u001b[38;5;124m'\u001b[39m, \u001b[38;5;124m'\u001b[39m\u001b[38;5;124mpython is fun!\u001b[39m\u001b[38;5;124m'\u001b[39m, \u001b[38;5;124m'\u001b[39m\u001b[38;5;124mhave a great day!\u001b[39m\u001b[38;5;124m'\u001b[39m]\n\u001b[1;32m----> 7\u001b[0m show_message(messages)\n",
      "\u001b[1;31mNameError\u001b[0m: name 'show_message' is not defined"
     ]
    }
   ],
   "source": [
    "def show_messages(messages):\n",
    "    \"\"\"This prints each text message in the list\"\"\"\n",
    "    print(\"showing messages:\")\n",
    "    for message in messages:\n",
    "        print(message)\n",
    "message = ['Hello, how are you?', 'python is fun!', 'have a great day!']\n",
    "show_message(messages)\n"
   ]
  },
  {
   "cell_type": "code",
   "execution_count": null,
   "id": "b1486947-cbc5-4b07-b073-98e337927342",
   "metadata": {},
   "outputs": [],
   "source": []
  }
 ],
 "metadata": {
  "kernelspec": {
   "display_name": "Python [conda env:base] *",
   "language": "python",
   "name": "conda-base-py"
  },
  "language_info": {
   "codemirror_mode": {
    "name": "ipython",
    "version": 3
   },
   "file_extension": ".py",
   "mimetype": "text/x-python",
   "name": "python",
   "nbconvert_exporter": "python",
   "pygments_lexer": "ipython3",
   "version": "3.12.7"
  }
 },
 "nbformat": 4,
 "nbformat_minor": 5
}
