{
 "cells": [
  {
   "cell_type": "code",
   "execution_count": 3,
   "id": "3e01c266-d492-4a54-bd6d-7a2beb870a67",
   "metadata": {},
   "outputs": [
    {
     "name": "stdout",
     "output_type": "stream",
     "text": [
      "Original Buffet Menu:\n",
      "pizza\n",
      "salad\n",
      "soup\n",
      "bread\n",
      "pasta\n",
      "\n",
      "Cannot modify a tuple: Tuples are immutable!\n",
      "\n",
      "Revised Buffet Menu:\n",
      "tacos\n",
      "salad\n",
      "chili\n",
      "bread\n",
      "sushi\n"
     ]
    }
   ],
   "source": [
    "buffet_menu = ('pizza', 'salad', 'soup', 'bread', 'pasta')\n",
    "\n",
    "print(\"Original Buffet Menu:\")\n",
    "for food in buffet_menu:\n",
    "    print(food)\n",
    "\n",
    "try:\n",
    "    buffet_menu[0] = 'tacos'\n",
    "except TypeError:\n",
    "    print(\"\\nCannot modify a tuple: Tuples are immutable!\")\n",
    "\n",
    "buffet_menu = ('tacos', 'salad', 'chili', 'bread', 'sushi')\n",
    "\n",
    "print(\"\\nRevised Buffet Menu:\")\n",
    "for food in buffet_menu:\n",
    "    print(food)"
   ]
  },
  {
   "cell_type": "code",
   "execution_count": null,
   "id": "c6e82377-ba5d-4203-a63c-e871c46e251d",
   "metadata": {},
   "outputs": [],
   "source": []
  }
 ],
 "metadata": {
  "kernelspec": {
   "display_name": "Python [conda env:base] *",
   "language": "python",
   "name": "conda-base-py"
  },
  "language_info": {
   "codemirror_mode": {
    "name": "ipython",
    "version": 3
   },
   "file_extension": ".py",
   "mimetype": "text/x-python",
   "name": "python",
   "nbconvert_exporter": "python",
   "pygments_lexer": "ipython3",
   "version": "3.12.7"
  }
 },
 "nbformat": 4,
 "nbformat_minor": 5
}
